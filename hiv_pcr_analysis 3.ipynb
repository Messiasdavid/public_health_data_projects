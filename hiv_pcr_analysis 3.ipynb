{
 "cells": [
  {
   "cell_type": "markdown",
   "id": "be5926cd",
   "metadata": {},
   "source": [
    "# HIV PCR Follow-up Analysis\n",
    "This notebook analyzes follow-up data for HIV-exposed infants using simulated data."
   ]
  },
  {
   "cell_type": "code",
   "execution_count": null,
   "id": "1479533e",
   "metadata": {},
   "outputs": [],
   "source": [
    "import pandas as pd\n",
    "import matplotlib.pyplot as plt\n",
    "import numpy as np"
   ]
  },
  {
   "cell_type": "code",
   "execution_count": null,
   "id": "edb9fa94",
   "metadata": {},
   "outputs": [],
   "source": [
    "df = pd.read_csv('hiv_pcr_data.csv')\n",
    "df.head()"
   ]
  },
  {
   "cell_type": "markdown",
   "id": "6b22ee8d",
   "metadata": {},
   "source": [
    "## Descriptive Statistics"
   ]
  },
  {
   "cell_type": "code",
   "execution_count": null,
   "id": "0427f1c4",
   "metadata": {},
   "outputs": [],
   "source": [
    "df.describe(include='all')"
   ]
  },
  {
   "cell_type": "markdown",
   "id": "765601e4",
   "metadata": {},
   "source": [
    "## PCR at Birth Coverage"
   ]
  },
  {
   "cell_type": "code",
   "execution_count": null,
   "id": "c0346a40",
   "metadata": {},
   "outputs": [],
   "source": [
    "\n",
    "birth_coverage = df['pcr_at_birth'].value_counts(dropna=False)\n",
    "birth_coverage.plot(kind='bar', title='PCR at Birth (1=Done, 0=Not done, NaN=Missing)')\n",
    "plt.xlabel('PCR at Birth')\n",
    "plt.ylabel('Number of Infants')\n",
    "plt.show()\n"
   ]
  },
  {
   "cell_type": "markdown",
   "id": "6dbe1c70",
   "metadata": {},
   "source": [
    "## PCR at 6 Weeks Coverage"
   ]
  },
  {
   "cell_type": "code",
   "execution_count": null,
   "id": "58aaade0",
   "metadata": {},
   "outputs": [],
   "source": [
    "\n",
    "week6_coverage = df['pcr_6_weeks'].value_counts(dropna=False)\n",
    "week6_coverage.plot(kind='bar', title='PCR at 6 Weeks')\n",
    "plt.xlabel('PCR at 6 Weeks')\n",
    "plt.ylabel('Number of Infants')\n",
    "plt.show()\n"
   ]
  },
  {
   "cell_type": "markdown",
   "id": "ae1ca536",
   "metadata": {},
   "source": [
    "## Final Results Distribution"
   ]
  },
  {
   "cell_type": "code",
   "execution_count": null,
   "id": "1e1ec2ff",
   "metadata": {},
   "outputs": [],
   "source": [
    "\n",
    "result_counts = df['final_result'].value_counts()\n",
    "result_counts.plot(kind='pie', autopct='%1.1f%%', title='Final Results', figsize=(6,6))\n",
    "plt.ylabel('')\n",
    "plt.show()\n"
   ]
  }
 ],
 "metadata": {},
 "nbformat": 4,
 "nbformat_minor": 5
}
